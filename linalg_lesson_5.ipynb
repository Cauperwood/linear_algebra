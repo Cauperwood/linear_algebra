{
 "cells": [
  {
   "cell_type": "code",
   "execution_count": 1,
   "metadata": {},
   "outputs": [],
   "source": [
    "import numpy as np"
   ]
  },
  {
   "cell_type": "markdown",
   "metadata": {},
   "source": [
    "__1.__ Найти собственные векторы и собственные значения для линейного оператора, заданного матрицей\n",
    "\n",
    "$$A=\\begin{pmatrix}\n",
    "-1 & -6\\\\ \n",
    "2 & 6\n",
    "\\end{pmatrix}.$$"
   ]
  },
  {
   "cell_type": "markdown",
   "metadata": {},
   "source": [
    "$\\triangle\\begin{pmatrix}\n",
    "-1-\\lambda & -6\\\\ \n",
    "2 & 6-\\lambda\n",
    "\\end{pmatrix} = 0$"
   ]
  },
  {
   "cell_type": "markdown",
   "metadata": {},
   "source": [
    "$\\lambda^2 - 5\\lambda + 6 = 0$\n",
    "\n",
    "$x_{1}$ = 2\n",
    "\n",
    "$x_{2}$ = 3"
   ]
  },
  {
   "cell_type": "markdown",
   "metadata": {},
   "source": [
    "$\\begin{cases}\n",
    "-x_{1}-6x_{2}=2x_{1}, \\\\\n",
    "2x_{1}+6x_{2}=2x_{1}.\n",
    "\\end{cases}$\n",
    "$e_{1}=(0,0)$"
   ]
  },
  {
   "cell_type": "markdown",
   "metadata": {},
   "source": [
    "$\\begin{cases}\n",
    "-x_{1}-6x_{2}=3x_{1}, \\\\\n",
    "2x_{1}+6x_{2}=3x_{1}.\n",
    "\\end{cases}$\n",
    "$e_{2}=(1,-2/3)$"
   ]
  },
  {
   "cell_type": "code",
   "execution_count": 2,
   "metadata": {},
   "outputs": [],
   "source": [
    "a = np.array([[-1, -6], [2, 6]])"
   ]
  },
  {
   "cell_type": "code",
   "execution_count": 4,
   "metadata": {},
   "outputs": [
    {
     "data": {
      "text/plain": [
       "(array([2., 3.]),\n",
       " array([[-0.89442719,  0.83205029],\n",
       "        [ 0.4472136 , -0.5547002 ]]))"
      ]
     },
     "execution_count": 4,
     "metadata": {},
     "output_type": "execute_result"
    }
   ],
   "source": [
    "np.linalg.eig(a)"
   ]
  },
  {
   "cell_type": "markdown",
   "metadata": {},
   "source": [
    "__2.__ Дан оператор поворота на 180 градусов, задаваемый матрицей \n",
    "\n",
    "$$A=\\begin{pmatrix}\n",
    "-1 & 0\\\\ \n",
    "0 & -1\n",
    "\\end{pmatrix}.$$\n",
    "\n",
    "Показать, что __любой__ вектор является для него собственным."
   ]
  },
  {
   "cell_type": "markdown",
   "metadata": {},
   "source": [
    "$\\triangle\\begin{pmatrix}\n",
    "-1-\\lambda & 0\\\\ \n",
    "0 & -1-\\lambda\n",
    "\\end{pmatrix} = 0$"
   ]
  },
  {
   "cell_type": "markdown",
   "metadata": {},
   "source": [
    "$\\lambda^2 + 2\\lambda + 1 = 0$\n",
    "\n",
    "$x_{1}$ = -1\n",
    "\n",
    "$x_{2}$ = -1"
   ]
  },
  {
   "cell_type": "markdown",
   "metadata": {},
   "source": [
    "$\\begin{cases}\n",
    "-x_{1}=-x_{1}, \\\\\n",
    "-x_{2}=-x_{2}.\n",
    "\\end{cases}$\n",
    "$x_{1}$ и $x_{2}$ могут быть любыми числами, следовательно любой вектор может быть собственным"
   ]
  },
  {
   "cell_type": "markdown",
   "metadata": {},
   "source": [
    "__3.__ Пусть линейный оператор задан матрицей\n",
    "\n",
    "$$A=\\begin{pmatrix}\n",
    "1 & 1\\\\ \n",
    "-1 & 3\n",
    "\\end{pmatrix}.$$\n",
    "\n",
    "Установить, является ли вектор $x=(1,1)$ собственным вектором этого линейного оператора."
   ]
  },
  {
   "cell_type": "markdown",
   "metadata": {},
   "source": [
    "$\\textbf{A}x=\\lambda x$\n",
    "\n",
    "$\\begin{pmatrix}\n",
    "1 & 1\\\\ \n",
    "-1 & 3\n",
    "\\end{pmatrix}$ \n",
    "$\\begin{pmatrix}\n",
    "1 \\\\ \n",
    "1\n",
    "\\end{pmatrix}$ = $\\lambda$\n",
    "$\\begin{pmatrix}\n",
    "1 \\\\ \n",
    "1\n",
    "\\end{pmatrix}$\n",
    "\n",
    "$\\begin{cases}\n",
    "1+1=\\lambda, \\\\\n",
    "-1+3=\\lambda\n",
    "\\end{cases}$\n",
    "\n",
    "$\\lambda = 2$ и в 1-м и во 2-м уравнениях, следовательно вектор х=(1,1) является собственным"
   ]
  },
  {
   "cell_type": "markdown",
   "metadata": {},
   "source": [
    "__4.__ Пусть линейный оператор задан матрицей\n",
    "\n",
    "$$A=\\begin{pmatrix}\n",
    "0 & 3 & 0\\\\ \n",
    "3 & 0 & 0\\\\\n",
    "0 & 0 & 3\n",
    "\\end{pmatrix}.$$\n",
    "\n",
    "Установить, является ли вектор $x=(3, -3, -4)$ собственным вектором этого линейного оператора."
   ]
  },
  {
   "cell_type": "markdown",
   "metadata": {},
   "source": [
    "$\\begin{pmatrix}\n",
    "0 & 3 & 0\\\\ \n",
    "3 & 0 & 0\\\\\n",
    "0 & 0 & 3\n",
    "\\end{pmatrix}$ \n",
    "$\\begin{pmatrix}\n",
    "3 \\\\ \n",
    "-3\\\\\n",
    "-4\n",
    "\\end{pmatrix}$ = $\\lambda$\n",
    "$\\begin{pmatrix}\n",
    "3 \\\\ \n",
    "-3\\\\\n",
    "-4\n",
    "\\end{pmatrix}$\n",
    "\n",
    "$\\begin{cases}\n",
    "-9= 3\\lambda, \\\\\n",
    "9= -3\\lambda, \\\\\n",
    "-12 = -4\\lambda,\n",
    "\\end{cases}$\n",
    "\n",
    "$\\begin{cases}\n",
    "-3 = \\lambda, \\\\\n",
    "-3 = \\lambda, \\\\\n",
    "3 = \\lambda,\n",
    "\\end{cases}$\n",
    "\n",
    "$\\lambda$  в 1-м, во 2-м и в 3-м уравнениях не равны, следовательно вектор х=(3,-3,-4) не является собственным"
   ]
  }
 ],
 "metadata": {
  "kernelspec": {
   "display_name": "Python 3",
   "language": "python",
   "name": "python3"
  },
  "language_info": {
   "codemirror_mode": {
    "name": "ipython",
    "version": 3
   },
   "file_extension": ".py",
   "mimetype": "text/x-python",
   "name": "python",
   "nbconvert_exporter": "python",
   "pygments_lexer": "ipython3",
   "version": "3.7.6"
  }
 },
 "nbformat": 4,
 "nbformat_minor": 4
}
